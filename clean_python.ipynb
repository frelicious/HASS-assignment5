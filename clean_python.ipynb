{
 "cells": [
  {
   "cell_type": "code",
   "execution_count": 3,
   "metadata": {},
   "outputs": [
    {
     "data": {
      "text/plain": [
       "<module 'pandas' from 'C:\\\\Users\\\\S11\\\\Anaconda3\\\\lib\\\\site-packages\\\\pandas\\\\__init__.py'>"
      ]
     },
     "execution_count": 3,
     "metadata": {},
     "output_type": "execute_result"
    }
   ],
   "source": [
    "import json\n",
    "import pandas as pd\n",
    "df = pd.DataFrame(\n",
    "    [[\"a\", \"b\"], [\"c\", \"d\"]],\n",
    "    index=[\"row 1\", \"row 2\"],\n",
    "    columns=[\"col 1\", \"col 2\"],\n",
    ")"
   ]
  },
  {
   "cell_type": "code",
   "execution_count": 5,
   "metadata": {},
   "outputs": [],
   "source": [
    "df = pd.read_csv(\"expenditure.csv\")"
   ]
  },
  {
   "cell_type": "code",
   "execution_count": 6,
   "metadata": {},
   "outputs": [
    {
     "data": {
      "text/html": [
       "<div>\n",
       "<style scoped>\n",
       "    .dataframe tbody tr th:only-of-type {\n",
       "        vertical-align: middle;\n",
       "    }\n",
       "\n",
       "    .dataframe tbody tr th {\n",
       "        vertical-align: top;\n",
       "    }\n",
       "\n",
       "    .dataframe thead th {\n",
       "        text-align: right;\n",
       "    }\n",
       "</style>\n",
       "<table border=\"1\" class=\"dataframe\">\n",
       "  <thead>\n",
       "    <tr style=\"text-align: right;\">\n",
       "      <th></th>\n",
       "      <th>sector</th>\n",
       "      <th>ministry</th>\n",
       "      <th>type</th>\n",
       "      <th>amount</th>\n",
       "      <th>percent_of_gdp</th>\n",
       "    </tr>\n",
       "  </thead>\n",
       "  <tbody>\n",
       "    <tr>\n",
       "      <th>0</th>\n",
       "      <td>Social Development</td>\n",
       "      <td>Education</td>\n",
       "      <td>Operating</td>\n",
       "      <td>13090</td>\n",
       "      <td>0.026</td>\n",
       "    </tr>\n",
       "    <tr>\n",
       "      <th>1</th>\n",
       "      <td>Social Development</td>\n",
       "      <td>Education</td>\n",
       "      <td>Development</td>\n",
       "      <td>530</td>\n",
       "      <td>0.001</td>\n",
       "    </tr>\n",
       "    <tr>\n",
       "      <th>2</th>\n",
       "      <td>Social Development</td>\n",
       "      <td>National Development</td>\n",
       "      <td>Operating</td>\n",
       "      <td>4149</td>\n",
       "      <td>0.008</td>\n",
       "    </tr>\n",
       "    <tr>\n",
       "      <th>3</th>\n",
       "      <td>Social Development</td>\n",
       "      <td>National Development</td>\n",
       "      <td>Development</td>\n",
       "      <td>1380</td>\n",
       "      <td>0.003</td>\n",
       "    </tr>\n",
       "    <tr>\n",
       "      <th>4</th>\n",
       "      <td>Social Development</td>\n",
       "      <td>Health</td>\n",
       "      <td>Operating</td>\n",
       "      <td>17355</td>\n",
       "      <td>0.034</td>\n",
       "    </tr>\n",
       "  </tbody>\n",
       "</table>\n",
       "</div>"
      ],
      "text/plain": [
       "               sector              ministry         type  amount  \\\n",
       "0  Social Development             Education    Operating   13090   \n",
       "1  Social Development             Education  Development     530   \n",
       "2  Social Development  National Development    Operating    4149   \n",
       "3  Social Development  National Development  Development    1380   \n",
       "4  Social Development                Health    Operating   17355   \n",
       "\n",
       "   percent_of_gdp  \n",
       "0           0.026  \n",
       "1           0.001  \n",
       "2           0.008  \n",
       "3           0.003  \n",
       "4           0.034  "
      ]
     },
     "execution_count": 6,
     "metadata": {},
     "output_type": "execute_result"
    }
   ],
   "source": [
    "df.head()"
   ]
  },
  {
   "cell_type": "code",
   "execution_count": 12,
   "metadata": {},
   "outputs": [],
   "source": [
    "df_grouped =df.groupby(['sector','ministry','type']).sum()"
   ]
  },
  {
   "cell_type": "code",
   "execution_count": 15,
   "metadata": {},
   "outputs": [],
   "source": [
    "df_grouped.to_csv(\"expenditure_grouped.csv\")"
   ]
  },
  {
   "cell_type": "code",
   "execution_count": 19,
   "metadata": {},
   "outputs": [],
   "source": [
    "df_grouped = pd.read_csv(\"expenditure_grouped.csv\")"
   ]
  },
  {
   "cell_type": "code",
   "execution_count": 20,
   "metadata": {},
   "outputs": [
    {
     "data": {
      "text/plain": [
       "'{\"0\": {\"sector\": \"Economic Development\", \"ministry\": \"Info-Communications and Media Development\", \"type\": \"Development\", \"amount\": 22, \"percent_of_gdp\": 0.0}, \"1\": {\"sector\": \"Economic Development\", \"ministry\": \"Info-Communications and Media Development\", \"type\": \"Operating\", \"amount\": 790, \"percent_of_gdp\": 0.002}, \"2\": {\"sector\": \"Economic Development\", \"ministry\": \"Manpower\", \"type\": \"Development\", \"amount\": 98, \"percent_of_gdp\": 0.0}, \"3\": {\"sector\": \"Economic Development\", \"ministry\": \"Manpower\", \"type\": \"Operating\", \"amount\": 5519, \"percent_of_gdp\": 0.011}, \"4\": {\"sector\": \"Economic Development\", \"ministry\": \"Trade and Industry\", \"type\": \"Development\", \"amount\": 5123, \"percent_of_gdp\": 0.01}, \"5\": {\"sector\": \"Economic Development\", \"ministry\": \"Trade and Industry\", \"type\": \"Operating\", \"amount\": 2052, \"percent_of_gdp\": 0.004}, \"6\": {\"sector\": \"Economic Development\", \"ministry\": \"Transport\", \"type\": \"Development\", \"amount\": 7015, \"percent_of_gdp\": 0.014}, \"7\": {\"sector\": \"Economic Development\", \"ministry\": \"Transport\", \"type\": \"Operating\", \"amount\": 4051, \"percent_of_gdp\": 0.008}, \"8\": {\"sector\": \"Government Administration\", \"ministry\": \"Finance\", \"type\": \"Development\", \"amount\": 140, \"percent_of_gdp\": 0.0}, \"9\": {\"sector\": \"Government Administration\", \"ministry\": \"Finance\", \"type\": \"Operating\", \"amount\": 1928, \"percent_of_gdp\": 0.004}, \"10\": {\"sector\": \"Government Administration\", \"ministry\": \"Law\", \"type\": \"Development\", \"amount\": 220, \"percent_of_gdp\": 0.0}, \"11\": {\"sector\": \"Government Administration\", \"ministry\": \"Law\", \"type\": \"Operating\", \"amount\": 261, \"percent_of_gdp\": 0.001}, \"12\": {\"sector\": \"Government Administration\", \"ministry\": \"Organs of State\", \"type\": \"Development\", \"amount\": 104, \"percent_of_gdp\": 0.0}, \"13\": {\"sector\": \"Government Administration\", \"ministry\": \"Organs of State\", \"type\": \"Operating\", \"amount\": 607, \"percent_of_gdp\": 0.001}, \"14\": {\"sector\": \"Government Administration\", \"ministry\": \"Prime Minister\\'s Office\", \"type\": \"Development\", \"amount\": 293, \"percent_of_gdp\": 0.001}, \"15\": {\"sector\": \"Government Administration\", \"ministry\": \"Prime Minister\\'s Office\", \"type\": \"Operating\", \"amount\": 973, \"percent_of_gdp\": 0.002}, \"16\": {\"sector\": \"Security and External Relations\", \"ministry\": \"Defence\", \"type\": \"Development\", \"amount\": 558, \"percent_of_gdp\": 0.001}, \"17\": {\"sector\": \"Security and External Relations\", \"ministry\": \"Defence\", \"type\": \"Operating\", \"amount\": 14803, \"percent_of_gdp\": 0.029}, \"18\": {\"sector\": \"Security and External Relations\", \"ministry\": \"Foreign Affairs\", \"type\": \"Development\", \"amount\": 13, \"percent_of_gdp\": 0.0}, \"19\": {\"sector\": \"Security and External Relations\", \"ministry\": \"Foreign Affairs\", \"type\": \"Operating\", \"amount\": 421, \"percent_of_gdp\": 0.001}, \"20\": {\"sector\": \"Security and External Relations\", \"ministry\": \"Home Affairs\", \"type\": \"Development\", \"amount\": 1332, \"percent_of_gdp\": 0.003}, \"21\": {\"sector\": \"Security and External Relations\", \"ministry\": \"Home Affairs\", \"type\": \"Operating\", \"amount\": 6544, \"percent_of_gdp\": 0.013}, \"22\": {\"sector\": \"Social Development\", \"ministry\": \"Communications and Information\", \"type\": \"Development\", \"amount\": 39, \"percent_of_gdp\": 0.0}, \"23\": {\"sector\": \"Social Development\", \"ministry\": \"Communications and Information\", \"type\": \"Operating\", \"amount\": 590, \"percent_of_gdp\": 0.001}, \"24\": {\"sector\": \"Social Development\", \"ministry\": \"Culture, Community and Youth\", \"type\": \"Development\", \"amount\": 358, \"percent_of_gdp\": 0.001}, \"25\": {\"sector\": \"Social Development\", \"ministry\": \"Culture, Community and Youth\", \"type\": \"Operating\", \"amount\": 1914, \"percent_of_gdp\": 0.004}, \"26\": {\"sector\": \"Social Development\", \"ministry\": \"Education\", \"type\": \"Development\", \"amount\": 530, \"percent_of_gdp\": 0.001}, \"27\": {\"sector\": \"Social Development\", \"ministry\": \"Education\", \"type\": \"Operating\", \"amount\": 13090, \"percent_of_gdp\": 0.026}, \"28\": {\"sector\": \"Social Development\", \"ministry\": \"Health\", \"type\": \"Development\", \"amount\": 1490, \"percent_of_gdp\": 0.003}, \"29\": {\"sector\": \"Social Development\", \"ministry\": \"Health\", \"type\": \"Operating\", \"amount\": 17355, \"percent_of_gdp\": 0.034}, \"30\": {\"sector\": \"Social Development\", \"ministry\": \"Manpower\", \"type\": \"Development\", \"amount\": 4, \"percent_of_gdp\": 0.0}, \"31\": {\"sector\": \"Social Development\", \"ministry\": \"Manpower\", \"type\": \"Operating\", \"amount\": 1556, \"percent_of_gdp\": 0.003}, \"32\": {\"sector\": \"Social Development\", \"ministry\": \"National Development\", \"type\": \"Development\", \"amount\": 1380, \"percent_of_gdp\": 0.003}, \"33\": {\"sector\": \"Social Development\", \"ministry\": \"National Development\", \"type\": \"Operating\", \"amount\": 4149, \"percent_of_gdp\": 0.008}, \"34\": {\"sector\": \"Social Development\", \"ministry\": \"Social and Family Development\", \"type\": \"Development\", \"amount\": 99, \"percent_of_gdp\": 0.0}, \"35\": {\"sector\": \"Social Development\", \"ministry\": \"Social and Family Development\", \"type\": \"Operating\", \"amount\": 4014, \"percent_of_gdp\": 0.008}, \"36\": {\"sector\": \"Social Development\", \"ministry\": \"Sustainability and the Environment\", \"type\": \"Development\", \"amount\": 1055, \"percent_of_gdp\": 0.002}, \"37\": {\"sector\": \"Social Development\", \"ministry\": \"Sustainability and the Environment\", \"type\": \"Operating\", \"amount\": 1849, \"percent_of_gdp\": 0.004}}'"
      ]
     },
     "execution_count": 20,
     "metadata": {},
     "output_type": "execute_result"
    }
   ],
   "source": [
    "result = df_grouped.to_json(orient=\"index\")\n",
    "parsed = json.loads(result)\n",
    "json.dumps(parsed)  "
   ]
  }
 ],
 "metadata": {
  "kernelspec": {
   "display_name": "Python 3",
   "language": "python",
   "name": "python3"
  },
  "language_info": {
   "codemirror_mode": {
    "name": "ipython",
    "version": 3
   },
   "file_extension": ".py",
   "mimetype": "text/x-python",
   "name": "python",
   "nbconvert_exporter": "python",
   "pygments_lexer": "ipython3",
   "version": "3.7.3"
  }
 },
 "nbformat": 4,
 "nbformat_minor": 2
}
